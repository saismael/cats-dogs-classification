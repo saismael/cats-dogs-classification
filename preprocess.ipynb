{
 "cells": [
  {
   "cell_type": "code",
   "execution_count": 15,
   "metadata": {},
   "outputs": [],
   "source": [
    "import os\n",
    "import shutil\n",
    "from sklearn.model_selection import train_test_split\n",
    "\n",
    "def move(files, class_lbl):\n",
    "    X_train, X_test = train_test_split(files, test_size = .2)\n",
    "    print(class_lbl, \"X_train\", len(X_train), \"X_test\", len(X_test))\n",
    "\n",
    "    for f in X_test:\n",
    "        shutil.copy2(os.path.join('train', f), os.path.join(\"dataset\", \"valid\", class_lbl, f.replace(\"cat.\",\"\").replace(\"dog.\",\"\")))\n",
    "\n",
    "    for f in X_train:\n",
    "        shutil.copy2(os.path.join('train', f), os.path.join(\"dataset\", \"train\", class_lbl, f.replace(\"cat.\",\"\").replace(\"dog.\",\"\"))) "
   ]
  },
  {
   "cell_type": "code",
   "execution_count": 16,
   "metadata": {},
   "outputs": [],
   "source": [
    "os.makedirs('dataset',exist_ok=True)\n",
    "os.makedirs('dataset/valid/cat', exist_ok=True)\n",
    "os.makedirs('dataset/valid/dog', exist_ok=True)\n",
    "os.makedirs('dataset/train/cat', exist_ok=True)\n",
    "os.makedirs('dataset/train/dog', exist_ok=True)"
   ]
  },
  {
   "cell_type": "code",
   "execution_count": 17,
   "metadata": {},
   "outputs": [
    {
     "name": "stdout",
     "output_type": "stream",
     "text": [
      "total 25000 cat 12500 dog 12500\n",
      "cat X_train 10000 X_test 2500\n",
      "dog X_train 10000 X_test 2500\n"
     ]
    }
   ],
   "source": [
    "count_total = 0\n",
    "cats = []\n",
    "dogs = []\n",
    "for subdir, dirs, files in os.walk('train/'):\n",
    "    for file in files:\n",
    "        if file.endswith('.jpg'):\n",
    "            count_total = count_total + 1\n",
    "            if 'cat' in file:\n",
    "                cats.append(file)\n",
    "            else:\n",
    "                dogs.append(file)\n",
    "                \n",
    "print(\"total\",count_total, \"cat\", len(cats), \"dog\", len(dogs))\n",
    "\n",
    "move(cats, \"cat\")\n",
    "move(dogs, \"dog\")"
   ]
  }
 ],
 "metadata": {
  "kernelspec": {
   "display_name": "Python 3",
   "language": "python",
   "name": "python3"
  },
  "language_info": {
   "codemirror_mode": {
    "name": "ipython",
    "version": 3
   },
   "file_extension": ".py",
   "mimetype": "text/x-python",
   "name": "python",
   "nbconvert_exporter": "python",
   "pygments_lexer": "ipython3",
   "version": "3.6.6"
  }
 },
 "nbformat": 4,
 "nbformat_minor": 2
}
